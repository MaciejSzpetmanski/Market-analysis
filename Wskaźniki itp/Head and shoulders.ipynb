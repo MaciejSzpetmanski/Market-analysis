{
 "cells": [
  {
   "cell_type": "code",
   "execution_count": null,
   "id": "5e033d61",
   "metadata": {},
   "outputs": [],
   "source": [
    "import pandas as pd\n",
    "import numpy as np\n",
    "import matplotlib.pyplot as plt\n",
    "from scipy.signal import find_peaks"
   ]
  },
  {
   "cell_type": "code",
   "execution_count": null,
   "id": "a7941be7",
   "metadata": {},
   "outputs": [],
   "source": [
    "#data"
   ]
  },
  {
   "cell_type": "code",
   "execution_count": null,
   "id": "2a306b4b",
   "metadata": {},
   "outputs": [],
   "source": [
    "# Parameters for detecting Head and Shoulders\n",
    "peak_distance = 5      # Minimum distance between peaks to avoid noise\n",
    "shoulder_tolerance = 0.05  # Percentage tolerance for shoulder height similarity\n",
    "min_head_height = 1.05  # Minimum height ratio of head relative to shoulders\n",
    "\n",
    "# Detect peaks (local maxima)\n",
    "peaks, _ = find_peaks(close_prices, distance=peak_distance)\n",
    "peak_values = close_prices.iloc[peaks]"
   ]
  },
  {
   "cell_type": "code",
   "execution_count": null,
   "id": "b6b94e75",
   "metadata": {},
   "outputs": [],
   "source": [
    "# Helper function to detect Head and Shoulders pattern\n",
    "def detect_head_and_shoulders(peaks, peak_values, shoulder_tolerance, min_head_height):\n",
    "    head_and_shoulders_patterns = []\n",
    "    \n",
    "    # Iterate over peaks to find Head and Shoulders patterns\n",
    "    for i in range(1, len(peaks) - 1):\n",
    "        left_shoulder, head, right_shoulder = peak_values.iloc[i - 1], peak_values.iloc[i], peak_values.iloc[i + 1]\n",
    "        \n",
    "        # Conditions for Head and Shoulders\n",
    "        shoulders_similar = abs(left_shoulder - right_shoulder) <= shoulder_tolerance * left_shoulder\n",
    "        head_taller = head > left_shoulder * min_head_height and head > right_shoulder * min_head_height\n",
    "        \n",
    "        if shoulders_similar and head_taller:\n",
    "            pattern = {\n",
    "                \"Left Shoulder Index\": peaks[i - 1],\n",
    "                \"Head Index\": peaks[i],\n",
    "                \"Right Shoulder Index\": peaks[i + 1],\n",
    "                \"Left Shoulder Price\": left_shoulder,\n",
    "                \"Head Price\": head,\n",
    "                \"Right Shoulder Price\": right_shoulder\n",
    "            }\n",
    "            head_and_shoulders_patterns.append(pattern)\n",
    "            \n",
    "    return head_and_shoulders_patterns"
   ]
  },
  {
   "cell_type": "code",
   "execution_count": null,
   "id": "15bfa207",
   "metadata": {},
   "outputs": [],
   "source": [
    "# Detect patterns\n",
    "patterns = detect_head_and_shoulders(peaks, peak_values, shoulder_tolerance, min_head_height)"
   ]
  },
  {
   "cell_type": "code",
   "execution_count": null,
   "id": "9b38d329",
   "metadata": {},
   "outputs": [],
   "source": [
    "# Plotting the results\n",
    "plt.figure(figsize=(14, 8))\n",
    "plt.plot(close_prices, label='Close Price', color='black', alpha=0.5)\n",
    "plt.plot(peaks, peak_values, \"o\", label=\"Peaks\", color=\"gray\")\n",
    "\n",
    "# Highlight detected patterns\n",
    "for pattern in patterns:\n",
    "    plt.plot(pattern[\"Left Shoulder Index\"], pattern[\"Left Shoulder Price\"], \"o\", color=\"green\", label=\"Left Shoulder\")\n",
    "    plt.plot(pattern[\"Head Index\"], pattern[\"Head Price\"], \"o\", color=\"red\", label=\"Head\")\n",
    "    plt.plot(pattern[\"Right Shoulder Index\"], pattern[\"Right Shoulder Price\"], \"o\", color=\"blue\", label=\"Right Shoulder\")\n",
    "\n",
    "plt.legend()\n",
    "plt.title(\"Head and Shoulders Pattern Detection\")\n",
    "plt.xlabel(\"Index\")\n",
    "plt.ylabel(\"Price\")\n",
    "plt.show()\n",
    "\n",
    "# Display detected patterns\n",
    "for i, pattern in enumerate(patterns, start=1):\n",
    "    print(f\"Pattern {i}:\")\n",
    "    print(f\" Left Shoulder at index {pattern['Left Shoulder Index']} with price {pattern['Left Shoulder Price']}\")\n",
    "    print(f\" Head at index {pattern['Head Index']} with price {pattern['Head Price']}\")\n",
    "    print(f\" Right Shoulder at index {pattern['Right Shoulder Index']} with price {pattern['Right Shoulder Price']}\\n\")"
   ]
  }
 ],
 "metadata": {
  "kernelspec": {
   "display_name": "Python 3 (ipykernel)",
   "language": "python",
   "name": "python3"
  },
  "language_info": {
   "codemirror_mode": {
    "name": "ipython",
    "version": 3
   },
   "file_extension": ".py",
   "mimetype": "text/x-python",
   "name": "python",
   "nbconvert_exporter": "python",
   "pygments_lexer": "ipython3",
   "version": "3.11.5"
  }
 },
 "nbformat": 4,
 "nbformat_minor": 5
}
