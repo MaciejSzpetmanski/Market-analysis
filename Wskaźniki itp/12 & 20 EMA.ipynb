{
 "cells": [
  {
   "cell_type": "code",
   "execution_count": null,
   "id": "ad4a38b4",
   "metadata": {},
   "outputs": [],
   "source": [
    "import pandas as pd\n",
    "import numpy as np\n",
    "import matplotlib.pyplot as plt"
   ]
  },
  {
   "cell_type": "code",
   "execution_count": null,
   "id": "4f7b6c1a",
   "metadata": {},
   "outputs": [],
   "source": [
    "#dowload data"
   ]
  },
  {
   "cell_type": "code",
   "execution_count": null,
   "id": "dca69e8e",
   "metadata": {},
   "outputs": [],
   "source": [
    "# close = pd.Series([...])  # Load close prices here\n",
    "close = pd.Series([100 + np.sin(i/10) for i in range(100)])"
   ]
  },
  {
   "cell_type": "code",
   "execution_count": null,
   "id": "7768cac9",
   "metadata": {},
   "outputs": [],
   "source": [
    "# EMA parameters\n",
    "emaS_value = 12  # Small EMA period\n",
    "emaB_value = 20  # Big EMA period\n",
    "\n",
    "# Calculate EMAs\n",
    "emaS = close.ewm(span=emaS_value, adjust=False).mean()\n",
    "emaB = close.ewm(span=emaB_value, adjust=False).mean()\n",
    "\n",
    "# Colors and arrow options\n",
    "EMA_UpTrend_color = \"#00ff00\"\n",
    "EMA_DownTrend_color = \"#ff0000\"\n",
    "arrowColorUp = \"#00ff00\"\n",
    "arrowColorDown = \"#ff0000\"\n",
    "arrowSize = 50  # for plot visualization"
   ]
  },
  {
   "cell_type": "code",
   "execution_count": null,
   "id": "9346f376",
   "metadata": {},
   "outputs": [],
   "source": [
    "# Determine uptrend and downtrend\n",
    "EMA_UpTrend = emaS >= emaB\n",
    "EMA_DownTrend = emaS < emaB\n",
    "\n",
    "# Track crossover state\n",
    "crossover = np.nan  # Initialize crossover state\n",
    "crossover_signals = []  # To store crossover events for plotting"
   ]
  },
  {
   "cell_type": "code",
   "execution_count": null,
   "id": "e6741b3a",
   "metadata": {},
   "outputs": [],
   "source": [
    "# Detect crossover events\n",
    "for i in range(1, len(close)):\n",
    "    if EMA_UpTrend[i - 1] and EMA_DownTrend[i]:\n",
    "        crossover = -1  # Downtrend crossover\n",
    "    elif EMA_DownTrend[i - 1] and EMA_UpTrend[i]:\n",
    "        crossover = 1  # Uptrend crossover\n",
    "    else:\n",
    "        crossover = np.nan  # No crossover\n",
    "\n",
    "    crossover_signals.append(crossover)"
   ]
  },
  {
   "cell_type": "code",
   "execution_count": null,
   "id": "78f18f1b",
   "metadata": {},
   "outputs": [],
   "source": [
    "# Convert crossover signals to Series for easier plotting\n",
    "crossover_signals = pd.Series(crossover_signals, index=close.index)"
   ]
  },
  {
   "cell_type": "code",
   "execution_count": null,
   "id": "6f20ae30",
   "metadata": {},
   "outputs": [],
   "source": [
    "# Plot the data\n",
    "plt.figure(figsize=(12, 8))\n",
    "plt.plot(close, label='Close', color='black', alpha=0.6)\n",
    "plt.plot(emaS, label=f'EMA {emaS_value}', color=EMA_UpTrend_color if EMA_UpTrend.iloc[-1] else EMA_DownTrend_color, linewidth=1)\n",
    "plt.plot(emaB, label=f'EMA {emaB_value}', color=EMA_UpTrend_color if EMA_UpTrend.iloc[-1] else EMA_DownTrend_color, linewidth=2)\n",
    "\n",
    "# Plot arrows for crossover points\n",
    "for i, signal in enumerate(crossover_signals):\n",
    "    if signal == 1:  # Up crossover\n",
    "        plt.annotate('↑', (i, close[i]), color=arrowColorUp, fontsize=arrowSize / 10, ha='center')\n",
    "    elif signal == -1:  # Down crossover\n",
    "        plt.annotate('↓', (i, close[i]), color=arrowColorDown, fontsize=arrowSize / 10, ha='center')\n",
    "\n",
    "# Show alerts for trend changes (console output)\n",
    "for i, signal in enumerate(crossover_signals):\n",
    "    if signal == 1:\n",
    "        print(f\"EMA Trend Up - Crossover at index {i}\")\n",
    "    elif signal == -1:\n",
    "        print(f\"EMA Trend Down - Crossover at index {i}\")\n",
    "\n",
    "plt.legend()\n",
    "plt.title(\"EMA with Crossover Detection\")\n",
    "plt.show()"
   ]
  }
 ],
 "metadata": {
  "kernelspec": {
   "display_name": "Python 3 (ipykernel)",
   "language": "python",
   "name": "python3"
  },
  "language_info": {
   "codemirror_mode": {
    "name": "ipython",
    "version": 3
   },
   "file_extension": ".py",
   "mimetype": "text/x-python",
   "name": "python",
   "nbconvert_exporter": "python",
   "pygments_lexer": "ipython3",
   "version": "3.11.5"
  }
 },
 "nbformat": 4,
 "nbformat_minor": 5
}
