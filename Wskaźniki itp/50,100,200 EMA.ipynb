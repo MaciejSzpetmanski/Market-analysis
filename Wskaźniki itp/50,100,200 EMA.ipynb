{
 "cells": [
  {
   "cell_type": "code",
   "execution_count": null,
   "id": "b5368ab9",
   "metadata": {},
   "outputs": [],
   "source": [
    "import pandas as pd\n",
    "import numpy as np\n",
    "import matplotlib.pyplot as plt"
   ]
  },
  {
   "cell_type": "code",
   "execution_count": null,
   "id": "bba0488b",
   "metadata": {},
   "outputs": [],
   "source": [
    "#dowload data"
   ]
  },
  {
   "cell_type": "code",
   "execution_count": null,
   "id": "85dedc7c",
   "metadata": {},
   "outputs": [],
   "source": [
    "# close = pd.Series([...])  # Load close prices here\n",
    "close = pd.Series([100 + np.sin(i / 10) for i in range(300)])"
   ]
  },
  {
   "cell_type": "code",
   "execution_count": null,
   "id": "4df26ac6",
   "metadata": {},
   "outputs": [],
   "source": [
    "# EMA parameters\n",
    "ema_50_value = 50\n",
    "ema_100_value = 100\n",
    "ema_200_value = 200\n",
    "\n",
    "# Calculate EMAs\n",
    "ema_50 = close.ewm(span=ema_50_value, adjust=False).mean()\n",
    "ema_100 = close.ewm(span=ema_100_value, adjust=False).mean()\n",
    "ema_200 = close.ewm(span=ema_200_value, adjust=False).mean()"
   ]
  },
  {
   "cell_type": "code",
   "execution_count": null,
   "id": "391a102c",
   "metadata": {},
   "outputs": [],
   "source": [
    "# Initialize crossover detection list\n",
    "crossover_signals = []"
   ]
  },
  {
   "cell_type": "code",
   "execution_count": null,
   "id": "f7c142d1",
   "metadata": {},
   "outputs": [],
   "source": [
    "# Detect crossover events between EMAs\n",
    "for i in range(1, len(close)):\n",
    "    signal = None\n",
    "    # Check for crossovers between EMA50 & EMA100 and EMA100 & EMA200\n",
    "    if ema_50[i - 1] < ema_100[i - 1] and ema_50[i] >= ema_100[i]:\n",
    "        signal = \"50 crosses above 100\"\n",
    "    elif ema_50[i - 1] > ema_100[i - 1] and ema_50[i] <= ema_100[i]:\n",
    "        signal = \"50 crosses below 100\"\n",
    "    elif ema_100[i - 1] < ema_200[i - 1] and ema_100[i] >= ema_200[i]:\n",
    "        signal = \"100 crosses above 200\"\n",
    "    elif ema_100[i - 1] > ema_200[i - 1] and ema_100[i] <= ema_200[i]:\n",
    "        signal = \"100 crosses below 200\"\n",
    "    \n",
    "    crossover_signals.append(signal)"
   ]
  },
  {
   "cell_type": "code",
   "execution_count": null,
   "id": "e8bef66e",
   "metadata": {},
   "outputs": [],
   "source": [
    "# Convert crossover signals to a Series for easier plotting if necessary\n",
    "crossover_signals = pd.Series(crossover_signals, index=close.index)"
   ]
  },
  {
   "cell_type": "code",
   "execution_count": null,
   "id": "5f5105f4",
   "metadata": {},
   "outputs": [],
   "source": [
    "# Plot the close prices and EMAs\n",
    "plt.figure(figsize=(14, 8))\n",
    "plt.plot(close, label='Close', color='black', alpha=0.6)\n",
    "plt.plot(ema_50, label='EMA 50', color='cyan', linewidth=1.5)\n",
    "plt.plot(ema_100, label='EMA 100', color='blue', linewidth=1.5)\n",
    "plt.plot(ema_200, label='EMA 200', color='purple', linewidth=1.5)\n",
    "\n",
    "# Display crossover events on plot\n",
    "for i, signal in enumerate(crossover_signals):\n",
    "    if signal is not None:\n",
    "        plt.annotate(signal, (i, close[i]), color='red', fontsize=8, ha='center')\n",
    "\n",
    "# Show crossover alerts in the console\n",
    "for i, signal in enumerate(crossover_signals.dropna()):\n",
    "    print(f\"Crossover Alert: {signal} at index {i}\")\n",
    "\n",
    "plt.legend()\n",
    "plt.title(\"50, 100, 200 EMA Crossover Strategy\")\n",
    "plt.show()"
   ]
  }
 ],
 "metadata": {
  "kernelspec": {
   "display_name": "Python 3 (ipykernel)",
   "language": "python",
   "name": "python3"
  },
  "language_info": {
   "codemirror_mode": {
    "name": "ipython",
    "version": 3
   },
   "file_extension": ".py",
   "mimetype": "text/x-python",
   "name": "python",
   "nbconvert_exporter": "python",
   "pygments_lexer": "ipython3",
   "version": "3.11.5"
  }
 },
 "nbformat": 4,
 "nbformat_minor": 5
}
