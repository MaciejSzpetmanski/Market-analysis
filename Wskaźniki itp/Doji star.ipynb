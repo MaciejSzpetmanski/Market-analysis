{
 "cells": [
  {
   "cell_type": "code",
   "execution_count": null,
   "id": "ab74c511",
   "metadata": {},
   "outputs": [],
   "source": [
    "import pandas as pd\n",
    "import numpy as np\n",
    "import matplotlib.pyplot as plt"
   ]
  },
  {
   "cell_type": "code",
   "execution_count": null,
   "id": "61bcada2",
   "metadata": {},
   "outputs": [],
   "source": [
    "#data"
   ]
  },
  {
   "cell_type": "code",
   "execution_count": null,
   "id": "b5debe41",
   "metadata": {},
   "outputs": [],
   "source": [
    "# Parameters for identifying a Doji star\n",
    "doji_threshold = 0.1  # Defines the max acceptable difference between open and close\n",
    "shadow_ratio = 0.5    # Minimum ratio of the longer shadow to body length"
   ]
  },
  {
   "cell_type": "code",
   "execution_count": null,
   "id": "0d99f042",
   "metadata": {},
   "outputs": [],
   "source": [
    "# Doji pattern detection function\n",
    "def detect_doji_star(data, doji_threshold=doji_threshold, shadow_ratio=shadow_ratio):\n",
    "    # Calculate candlestick body and shadows\n",
    "    data['Body'] = abs(data['Close'] - data['Open'])\n",
    "    data['Upper_Shadow'] = data['High'] - data[['Close', 'Open']].max(axis=1)\n",
    "    data['Lower_Shadow'] = data[['Close', 'Open']].min(axis=1) - data['Low']\n",
    "\n",
    "    # Conditions for a Doji pattern\n",
    "    doji_condition = data['Body'] <= doji_threshold * (data['High'] - data['Low'])\n",
    "    long_upper_shadow = data['Upper_Shadow'] >= shadow_ratio * data['Body']\n",
    "    long_lower_shadow = data['Lower_Shadow'] >= shadow_ratio * data['Body']\n",
    "\n",
    "    # Identify potential Doji stars\n",
    "    data['Doji_Star'] = doji_condition & (long_upper_shadow | long_lower_shadow)\n",
    "    \n",
    "    # Filter for rows where Doji stars are detected\n",
    "    doji_stars = data[data['Doji_Star']]\n",
    "    return doji_stars"
   ]
  },
  {
   "cell_type": "code",
   "execution_count": null,
   "id": "d6fc6cd9",
   "metadata": {},
   "outputs": [],
   "source": [
    "# Find Doji star patterns\n",
    "doji_stars = detect_doji_star(data)"
   ]
  },
  {
   "cell_type": "code",
   "execution_count": null,
   "id": "30473b99",
   "metadata": {},
   "outputs": [],
   "source": [
    "# Plot the results\n",
    "plt.figure(figsize=(12, 6))\n",
    "plt.plot(data.index, data['Close'], label='Close Price', color='blue')\n",
    "\n",
    "# Mark Doji stars on the plot\n",
    "for idx in doji_stars.index:\n",
    "    plt.plot(idx, data['Close'].iloc[idx], marker='*', color='red', markersize=10, label='Doji Star' if idx == doji_stars.index[0] else \"\")\n",
    "\n",
    "plt.legend()\n",
    "plt.title(\"Doji Star Pattern Detection\")\n",
    "plt.xlabel(\"Index\")\n",
    "plt.ylabel(\"Price\")\n",
    "plt.show()\n",
    "\n",
    "# Display detected Doji star patterns\n",
    "print(\"Doji Star Patterns Detected at Indices:\")\n",
    "print(doji_stars[['Open', 'High', 'Low', 'Close']])"
   ]
  }
 ],
 "metadata": {
  "kernelspec": {
   "display_name": "Python 3 (ipykernel)",
   "language": "python",
   "name": "python3"
  },
  "language_info": {
   "codemirror_mode": {
    "name": "ipython",
    "version": 3
   },
   "file_extension": ".py",
   "mimetype": "text/x-python",
   "name": "python",
   "nbconvert_exporter": "python",
   "pygments_lexer": "ipython3",
   "version": "3.11.5"
  }
 },
 "nbformat": 4,
 "nbformat_minor": 5
}
