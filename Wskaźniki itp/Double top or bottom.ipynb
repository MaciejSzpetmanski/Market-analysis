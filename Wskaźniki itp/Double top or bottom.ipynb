{
 "cells": [
  {
   "cell_type": "code",
   "execution_count": null,
   "id": "dc3c2b2f",
   "metadata": {},
   "outputs": [],
   "source": [
    "import pandas as pd\n",
    "import numpy as np\n",
    "import matplotlib.pyplot as plt"
   ]
  },
  {
   "cell_type": "code",
   "execution_count": null,
   "id": "757d5809",
   "metadata": {},
   "outputs": [],
   "source": [
    "#download data"
   ]
  },
  {
   "cell_type": "code",
   "execution_count": null,
   "id": "16866877",
   "metadata": {},
   "outputs": [],
   "source": [
    "# Sample data - Replace with actual high/low data\n",
    "data_length = 300  # example length of data\n",
    "high = pd.Series(100 + 10 * np.sin(i / 20) + np.random.randn() for i in range(data_length))\n",
    "low = high - 5 + np.random.randn(data_length)"
   ]
  },
  {
   "cell_type": "code",
   "execution_count": null,
   "id": "61a63c6b",
   "metadata": {},
   "outputs": [],
   "source": [
    "# Configuration parameters\n",
    "length = 10\n",
    "max_risk_per_reward = 30\n",
    "show_zigzag = False\n",
    "show_pivots = True\n",
    "display_risk_per_reward = True\n",
    "bullish_color = 'green'\n",
    "bearish_color = 'red'"
   ]
  },
  {
   "cell_type": "code",
   "execution_count": null,
   "id": "82e174e7",
   "metadata": {},
   "outputs": [],
   "source": [
    "# Calculate pivot highs/lows\n",
    "def pivots(high, low, length):\n",
    "    ph = high[(high.rolling(window=length, center=True).apply(lambda x: x.argmax() == (length // 2), raw=True))]  # pivot high\n",
    "    pl = low[(low.rolling(window=length, center=True).apply(lambda x: x.argmin() == (length // 2), raw=True))]    # pivot low\n",
    "    return ph, pl"
   ]
  },
  {
   "cell_type": "code",
   "execution_count": null,
   "id": "4bb640eb",
   "metadata": {},
   "outputs": [],
   "source": [
    "# Detect double top/bottom patterns\n",
    "def detect_double_top_bottom(zigzag_values, zigzag_indexes, zigzag_dir, max_risk_per_reward):\n",
    "    double_top, double_bottom = False, False\n",
    "    risk_per_reward = 0\n",
    "\n",
    "    if len(zigzag_values) >= 4:\n",
    "        value, lvalue, llvalue = zigzag_values[1:4]\n",
    "        high_low, lhigh_low, llhigh_low = zigzag_dir[1:4]\n",
    "\n",
    "        # Risk-reward calculation\n",
    "        risk = abs(value - llvalue)\n",
    "        reward = abs(value - lvalue)\n",
    "        risk_per_reward = risk * 100 / (risk + reward)\n",
    "\n",
    "        # Check conditions for double top/bottom\n",
    "        if high_low == 1 and llhigh_low == 2 and lhigh_low < 0 and risk_per_reward < max_risk_per_reward:\n",
    "            double_top = True\n",
    "        elif high_low == -1 and llhigh_low == -2 and lhigh_low > 0 and risk_per_reward < max_risk_per_reward:\n",
    "            double_bottom = True\n",
    "\n",
    "    return double_top, double_bottom, risk_per_reward"
   ]
  },
  {
   "cell_type": "code",
   "execution_count": null,
   "id": "2aeb8398",
   "metadata": {},
   "outputs": [],
   "source": [
    "# Generate a zigzag pattern for demo purposes\n",
    "def generate_zigzag(high, low, length):\n",
    "    zigzag_values, zigzag_indexes, zigzag_dir = [], [], []\n",
    "    ph, pl = pivots(high, low, length)\n",
    "    for i, (h, l) in enumerate(zip(ph.dropna().index, pl.dropna().index)):\n",
    "        # Simplified logic to append detected pivots to zigzag lists\n",
    "        if i % 2 == 0:\n",
    "            zigzag_values.append(high[h])\n",
    "            zigzag_indexes.append(h)\n",
    "            zigzag_dir.append(1)  # uptrend\n",
    "        else:\n",
    "            zigzag_values.append(low[l])\n",
    "            zigzag_indexes.append(l)\n",
    "            zigzag_dir.append(-1)  # downtrend\n",
    "    return zigzag_values, zigzag_indexes, zigzag_dir"
   ]
  },
  {
   "cell_type": "code",
   "execution_count": null,
   "id": "6474e5da",
   "metadata": {},
   "outputs": [],
   "source": [
    "# Process data and detect patterns\n",
    "zigzag_values, zigzag_indexes, zigzag_dir = generate_zigzag(high, low, length)\n",
    "double_top, double_bottom, risk_per_reward = detect_double_top_bottom(zigzag_values, zigzag_indexes, zigzag_dir, max_risk_per_reward)"
   ]
  },
  {
   "cell_type": "code",
   "execution_count": null,
   "id": "235727c0",
   "metadata": {},
   "outputs": [],
   "source": [
    "# Display results\n",
    "plt.figure(figsize=(12, 8))\n",
    "plt.plot(high, label='High', color='blue', alpha=0.5)\n",
    "plt.plot(low, label='Low', color='orange', alpha=0.5)\n",
    "\n",
    "# Plot detected patterns\n",
    "if double_top or double_bottom:\n",
    "    pattern_type = \"Double Top\" if double_top else \"Double Bottom\"\n",
    "    plt.title(f\"{pattern_type} Detected with Risk/Reward: {risk_per_reward:.2f}%\")\n",
    "\n",
    "# Plot zigzag lines (if enabled)\n",
    "if show_zigzag:\n",
    "    for i in range(1, len(zigzag_indexes)):\n",
    "        plt.plot([zigzag_indexes[i-1], zigzag_indexes[i]], [zigzag_values[i-1], zigzag_values[i]], color='purple', linestyle='--')\n",
    "\n",
    "plt.legend()\n",
    "plt.show()\n",
    "\n",
    "# Print confirmation\n",
    "if double_top:\n",
    "    print(\"Double Top detected.\")\n",
    "elif double_bottom:\n",
    "    print(\"Double Bottom detected.\")\n",
    "else:\n",
    "    print(\"No significant double top/bottom pattern detected.\")"
   ]
  }
 ],
 "metadata": {
  "kernelspec": {
   "display_name": "Python 3 (ipykernel)",
   "language": "python",
   "name": "python3"
  },
  "language_info": {
   "codemirror_mode": {
    "name": "ipython",
    "version": 3
   },
   "file_extension": ".py",
   "mimetype": "text/x-python",
   "name": "python",
   "nbconvert_exporter": "python",
   "pygments_lexer": "ipython3",
   "version": "3.11.5"
  }
 },
 "nbformat": 4,
 "nbformat_minor": 5
}
